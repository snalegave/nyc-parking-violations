{
 "cells": [
  {
   "cell_type": "code",
   "execution_count": 1,
   "metadata": {},
   "outputs": [],
   "source": [
    "import numpy as np\n",
    "import pandas as pd\n",
    "\n",
    "from sklearn.tree import DecisionTreeClassifier\n",
    "from sklearn.metrics import accuracy_score\n",
    "from sklearn.model_selection import train_test_split # typically done at the start\n",
    "\n",
    "from sklearn.feature_selection import SelectPercentile, f_classif\n",
    "\n",
    "import matplotlib as mpl\n",
    "import matplotlib.pyplot as plt\n"
   ]
  },
  {
   "cell_type": "code",
   "execution_count": 2,
   "metadata": {},
   "outputs": [
    {
     "name": "stderr",
     "output_type": "stream",
     "text": [
      "C:\\Users\\snalegave\\Anaconda3\\lib\\site-packages\\numpy\\lib\\arraysetops.py:522: FutureWarning: elementwise comparison failed; returning scalar instead, but in the future will perform elementwise comparison\n",
      "  mask |= (ar1 == a)\n"
     ]
    }
   ],
   "source": [
    "full_df = pd.read_csv('./Parking_Violations_Issued_-_Fiscal_Year_2018.csv', usecols=  ['Summons Number','Issue Date','Plate Type', 'Issuing Agency', 'Registration State', \n",
    "        'Violation Code', 'Vehicle Body Type', 'Sub Division', 'Law Section', 'Vehicle Make', 'Vehicle Color', 'Violation County','Vehicle Year', 'Violation Time'], \n",
    "         index_col='Summons Number')"
   ]
  },
  {
   "cell_type": "code",
   "execution_count": 3,
   "metadata": {},
   "outputs": [
    {
     "data": {
      "text/plain": [
       "(11721626, 13)"
      ]
     },
     "execution_count": 3,
     "metadata": {},
     "output_type": "execute_result"
    }
   ],
   "source": [
    "full_df.shape\n"
   ]
  },
  {
   "cell_type": "code",
   "execution_count": 5,
   "metadata": {},
   "outputs": [
    {
     "name": "stderr",
     "output_type": "stream",
     "text": [
      "C:\\Users\\snalegave\\Anaconda3\\lib\\site-packages\\ipykernel_launcher.py:130: SettingWithCopyWarning: \n",
      "A value is trying to be set on a copy of a slice from a DataFrame.\n",
      "Try using .loc[row_indexer,col_indexer] = value instead\n",
      "\n",
      "See the caveats in the documentation: http://pandas.pydata.org/pandas-docs/stable/indexing.html#indexing-view-versus-copy\n",
      "C:\\Users\\snalegave\\Anaconda3\\lib\\site-packages\\ipykernel_launcher.py:133: SettingWithCopyWarning: \n",
      "A value is trying to be set on a copy of a slice from a DataFrame.\n",
      "Try using .loc[row_indexer,col_indexer] = value instead\n",
      "\n",
      "See the caveats in the documentation: http://pandas.pydata.org/pandas-docs/stable/indexing.html#indexing-view-versus-copy\n"
     ]
    },
    {
     "name": "stdout",
     "output_type": "stream",
     "text": [
      "(31031, 216)\n"
     ]
    },
    {
     "data": {
      "text/html": [
       "<div>\n",
       "<style scoped>\n",
       "    .dataframe tbody tr th:only-of-type {\n",
       "        vertical-align: middle;\n",
       "    }\n",
       "\n",
       "    .dataframe tbody tr th {\n",
       "        vertical-align: top;\n",
       "    }\n",
       "\n",
       "    .dataframe thead th {\n",
       "        text-align: right;\n",
       "    }\n",
       "</style>\n",
       "<table border=\"1\" class=\"dataframe\">\n",
       "  <thead>\n",
       "    <tr style=\"text-align: right;\">\n",
       "      <th></th>\n",
       "      <th>Violation Code</th>\n",
       "      <th>Registration State_NY</th>\n",
       "      <th>Plate Type_COM</th>\n",
       "      <th>Plate Type_IRP</th>\n",
       "      <th>Plate Type_MED</th>\n",
       "      <th>Plate Type_OMR</th>\n",
       "      <th>Plate Type_OMS</th>\n",
       "      <th>Plate Type_OMT</th>\n",
       "      <th>Plate Type_ORG</th>\n",
       "      <th>Plate Type_PAS</th>\n",
       "      <th>...</th>\n",
       "      <th>Month_24</th>\n",
       "      <th>Month_25</th>\n",
       "      <th>Month_26</th>\n",
       "      <th>Month_27</th>\n",
       "      <th>Month_28</th>\n",
       "      <th>Month_29</th>\n",
       "      <th>Month_30</th>\n",
       "      <th>Month_31</th>\n",
       "      <th>Year_2017</th>\n",
       "      <th>Year_2018</th>\n",
       "    </tr>\n",
       "    <tr>\n",
       "      <th>Summons Number</th>\n",
       "      <th></th>\n",
       "      <th></th>\n",
       "      <th></th>\n",
       "      <th></th>\n",
       "      <th></th>\n",
       "      <th></th>\n",
       "      <th></th>\n",
       "      <th></th>\n",
       "      <th></th>\n",
       "      <th></th>\n",
       "      <th></th>\n",
       "      <th></th>\n",
       "      <th></th>\n",
       "      <th></th>\n",
       "      <th></th>\n",
       "      <th></th>\n",
       "      <th></th>\n",
       "      <th></th>\n",
       "      <th></th>\n",
       "      <th></th>\n",
       "      <th></th>\n",
       "    </tr>\n",
       "  </thead>\n",
       "  <tbody>\n",
       "    <tr>\n",
       "      <th>8627017219</th>\n",
       "      <td>37</td>\n",
       "      <td>1</td>\n",
       "      <td>0</td>\n",
       "      <td>0</td>\n",
       "      <td>0</td>\n",
       "      <td>0</td>\n",
       "      <td>0</td>\n",
       "      <td>0</td>\n",
       "      <td>0</td>\n",
       "      <td>1</td>\n",
       "      <td>...</td>\n",
       "      <td>0</td>\n",
       "      <td>0</td>\n",
       "      <td>0</td>\n",
       "      <td>0</td>\n",
       "      <td>0</td>\n",
       "      <td>0</td>\n",
       "      <td>0</td>\n",
       "      <td>0</td>\n",
       "      <td>0</td>\n",
       "      <td>1</td>\n",
       "    </tr>\n",
       "    <tr>\n",
       "      <th>8652862199</th>\n",
       "      <td>21</td>\n",
       "      <td>1</td>\n",
       "      <td>0</td>\n",
       "      <td>0</td>\n",
       "      <td>0</td>\n",
       "      <td>0</td>\n",
       "      <td>0</td>\n",
       "      <td>0</td>\n",
       "      <td>0</td>\n",
       "      <td>1</td>\n",
       "      <td>...</td>\n",
       "      <td>0</td>\n",
       "      <td>0</td>\n",
       "      <td>0</td>\n",
       "      <td>0</td>\n",
       "      <td>0</td>\n",
       "      <td>0</td>\n",
       "      <td>0</td>\n",
       "      <td>0</td>\n",
       "      <td>0</td>\n",
       "      <td>1</td>\n",
       "    </tr>\n",
       "    <tr>\n",
       "      <th>8586321849</th>\n",
       "      <td>38</td>\n",
       "      <td>1</td>\n",
       "      <td>1</td>\n",
       "      <td>0</td>\n",
       "      <td>0</td>\n",
       "      <td>0</td>\n",
       "      <td>0</td>\n",
       "      <td>0</td>\n",
       "      <td>0</td>\n",
       "      <td>0</td>\n",
       "      <td>...</td>\n",
       "      <td>0</td>\n",
       "      <td>0</td>\n",
       "      <td>0</td>\n",
       "      <td>0</td>\n",
       "      <td>0</td>\n",
       "      <td>0</td>\n",
       "      <td>0</td>\n",
       "      <td>0</td>\n",
       "      <td>0</td>\n",
       "      <td>1</td>\n",
       "    </tr>\n",
       "    <tr>\n",
       "      <th>8659351800</th>\n",
       "      <td>21</td>\n",
       "      <td>1</td>\n",
       "      <td>0</td>\n",
       "      <td>0</td>\n",
       "      <td>0</td>\n",
       "      <td>0</td>\n",
       "      <td>0</td>\n",
       "      <td>0</td>\n",
       "      <td>0</td>\n",
       "      <td>1</td>\n",
       "      <td>...</td>\n",
       "      <td>0</td>\n",
       "      <td>0</td>\n",
       "      <td>0</td>\n",
       "      <td>1</td>\n",
       "      <td>0</td>\n",
       "      <td>0</td>\n",
       "      <td>0</td>\n",
       "      <td>0</td>\n",
       "      <td>0</td>\n",
       "      <td>1</td>\n",
       "    </tr>\n",
       "    <tr>\n",
       "      <th>8650463459</th>\n",
       "      <td>51</td>\n",
       "      <td>1</td>\n",
       "      <td>0</td>\n",
       "      <td>0</td>\n",
       "      <td>0</td>\n",
       "      <td>0</td>\n",
       "      <td>0</td>\n",
       "      <td>0</td>\n",
       "      <td>0</td>\n",
       "      <td>1</td>\n",
       "      <td>...</td>\n",
       "      <td>0</td>\n",
       "      <td>0</td>\n",
       "      <td>0</td>\n",
       "      <td>0</td>\n",
       "      <td>0</td>\n",
       "      <td>0</td>\n",
       "      <td>0</td>\n",
       "      <td>0</td>\n",
       "      <td>0</td>\n",
       "      <td>1</td>\n",
       "    </tr>\n",
       "  </tbody>\n",
       "</table>\n",
       "<p>5 rows × 216 columns</p>\n",
       "</div>"
      ],
      "text/plain": [
       "               Violation Code  Registration State_NY  Plate Type_COM  \\\n",
       "Summons Number                                                         \n",
       "8627017219                 37                      1               0   \n",
       "8652862199                 21                      1               0   \n",
       "8586321849                 38                      1               1   \n",
       "8659351800                 21                      1               0   \n",
       "8650463459                 51                      1               0   \n",
       "\n",
       "                Plate Type_IRP  Plate Type_MED  Plate Type_OMR  \\\n",
       "Summons Number                                                   \n",
       "8627017219                   0               0               0   \n",
       "8652862199                   0               0               0   \n",
       "8586321849                   0               0               0   \n",
       "8659351800                   0               0               0   \n",
       "8650463459                   0               0               0   \n",
       "\n",
       "                Plate Type_OMS  Plate Type_OMT  Plate Type_ORG  \\\n",
       "Summons Number                                                   \n",
       "8627017219                   0               0               0   \n",
       "8652862199                   0               0               0   \n",
       "8586321849                   0               0               0   \n",
       "8659351800                   0               0               0   \n",
       "8650463459                   0               0               0   \n",
       "\n",
       "                Plate Type_PAS    ...      Month_24  Month_25  Month_26  \\\n",
       "Summons Number                    ...                                     \n",
       "8627017219                   1    ...             0         0         0   \n",
       "8652862199                   1    ...             0         0         0   \n",
       "8586321849                   0    ...             0         0         0   \n",
       "8659351800                   1    ...             0         0         0   \n",
       "8650463459                   1    ...             0         0         0   \n",
       "\n",
       "                Month_27  Month_28  Month_29  Month_30  Month_31  Year_2017  \\\n",
       "Summons Number                                                                \n",
       "8627017219             0         0         0         0         0          0   \n",
       "8652862199             0         0         0         0         0          0   \n",
       "8586321849             0         0         0         0         0          0   \n",
       "8659351800             1         0         0         0         0          0   \n",
       "8650463459             0         0         0         0         0          0   \n",
       "\n",
       "                Year_2018  \n",
       "Summons Number             \n",
       "8627017219              1  \n",
       "8652862199              1  \n",
       "8586321849              1  \n",
       "8659351800              1  \n",
       "8650463459              1  \n",
       "\n",
       "[5 rows x 216 columns]"
      ]
     },
     "execution_count": 5,
     "metadata": {},
     "output_type": "execute_result"
    }
   ],
   "source": [
    "sample_df = full_df.sample(n=150000)\n",
    "\n",
    "def initialClean(df):\n",
    "    df = df.dropna(how = 'any')\n",
    "    df = df.drop_duplicates()\n",
    "#     Convert violation code from int to string\n",
    "    df['Violation Code'] = df['Violation Code'].astype(str)\n",
    "\n",
    "    \n",
    "#     Correct plate type and registration site for vehicle\n",
    "    plate_types = 'AGR MCD AMB MCL ARG MED ATD MOT ATV NLM AYG NYA BOB NYC BOT NYS CBS OMF CCK OML CHC OMO CLG OMR CMB OMS CME OMT CMH OMV COM ORC CSP ORG DLR PAS EDU PHS FAR PPH FPW PSD GAC RGC GFC RGL GSC SCL GSM SNO HAC Ham SOS HAM HIF SPO HIR SRF HIS SRN HOU STA HSM STG IRP SUP ITP TOW JCA TRA JCL THC JSC TRC JWV TRL LMA USC LMB USS LMC VAS LOC VPL LTR WUG LUA'.split(' ')\n",
    "    df = df[df['Plate Type'].isin(plate_types)]\n",
    "\n",
    "    reg_state = 'AL MT AK NE AZ NV AR NH CA NJ CO NM CT NY DE NC FL ND GA OH HI OK ID OR IL PA IN RI IA SC KS SD KY TN LA TX ME UT MD VT MA VA MI WA MN WV MS WI MO WY AB ON BC PE FO QB MB SK MX GV NB DP NF DC NT YT NS'.split(' ')\n",
    "    df = df[df['Registration State'].isin(reg_state)]\n",
    "\n",
    "#     Correct make and year of vehicle\n",
    "    df = clean_make_year(df)\n",
    "    \n",
    "#     Removing Vehicle Body Types which do not follow city codes\n",
    "    bodyTypes = ['FIRE', 'CONV', 'SEDN', 'SUBN', '4DSD', '2DSD', 'H/WH', 'ATV', 'MCY', 'H/IN', 'LOCO', 'CUST', 'RPLC', 'AMBU', 'P/SH', 'RBM', 'R/RD', 'RD/S', 'S/SP', 'SN/P', 'TRAV', 'MOBL', 'TR/E', 'T/CR', 'TR/C', 'SWT', 'W/DR', 'W/SR', 'FPM', 'MCC', 'EMVR', 'TRAC', 'DELV', 'DUMP', 'FLAT', 'PICK', 'STAK', 'TANK', 'REFG', 'TOW', 'VAN', 'UTIL', 'POLE', 'BOAT', 'H/TR', 'SEMI', 'TRLR', 'LTRL', 'LSVT', 'BUS', 'LIM', 'HRSE', 'TAXI', 'DCOM', 'CMIX', 'MOPD', 'MFH', 'SNOW', 'LSV']\n",
    "    df = df[df['Vehicle Body Type'].isin(bodyTypes)]\n",
    "\n",
    "#     Removing Sub Divisions which don't follow city codes\n",
    "    subDivisions = ['A0','A1','A2','A3','A4','A5','A6','A7','A8','A9','B1','B2','B3','B9','C0','C1','C2','C3','C4','C5','C6','C7','C8','C9','CM','D0','D1','D2','D3','D4','D5','D6','D7','D8','D9','E1','E2','E3','E4','E7','E9','F1','F2','F4','F5','F8','F9','G0','G1','G2','G3','G4','G5','G6','G7','G8','G9','GU','HB','HH','HR','HS','H1','H2','H3','H4','H5','H6','H7','H8','H9','I1','I2','I3','I4','I5','I6','I7','I8','I9','J1','J2','J3','J4','J5','J6','J7','J8','J9','K1','K2','K3','K4','K5','K6','K7','K8','K9','L1','L2','L3','L8','L9','M1','M2','M3','M4','M9','N1','N2','N3','N4','N9','O1','O2','O3','O4','O5','O6','O7','O8','O9','P1','P2','P3','P4','P5','P6','P7','P8','P9','Q1','Q2','Q3','Q4','Q5','Q6','Q7','Q8','Q9','RA','RB','RG','RH','RK','RP','RR','RS','RT','RW','R0','R1','R2','R3','R4','R5','R6','R7','R8','R9','S0','S1','S2','S3','S4','S5','S9','T1','T2','T9','U0','U1','U2','U3','U4','U5','U6','U7','U8','U9','V0','V1','V2','V3','V4','V5','V6','V7','V8','V9','W1','W2','W3','W4','W5','W6','W7','W8','W9','Y1','Y2','Y3','Y4','Y5','Y6','Y7','Y8','Y9','Z0','Z1','Z2','Z3','Z4','Z5','Z6','Z7','Z8','Z9']\n",
    "    df = df[df['Sub Division'].isin(subDivisions)]\n",
    "\n",
    "#     Correct color\n",
    "    col_rem = ['PRW','MH','TPE','FT','TAUPE','GRU','XXX','WHBR','AZ','PL','GM','LGITH','BLPR','BK SL','RDBR','LEXUS','RDPR','BRK','MAXIM','BRT','GRBK','GU','BT','BL/SI','ZIWIY','WT BK','BN.','LTBK', 'PRBL','BLTN','VAN','BLT','BRG','GY TN','BLYW','BLBR','GY/BL','DODGE','MAZ','BWTH','IW','NMI','NOCLR','OTH','WYBLU','BKPR','GKN','WAJP','GYG','BRY','KX','VN  R','DKTN','RDTN','TQ','PLE','ORBK','GLGR','YAN','QGY','MITI','BL/WH','QUEEN','GRT','BLK/S','ORWH','BLE','MULT','ZJHT','BWR','BBRW','GRG','TN.','DARL','GYMR','GRGL','CNH', 'SC','GLBK', 'VN  S', 'COM''WT BL','LTPR','BLGL','GRAT','WORKH','GRBL','CRM','MUILT','K.','VLK','GA','RD BK','GYRD','ZKCXN','YE/OR','RDWH','GLK','GT','MC','BLR','KD','GRTN''WHOR','BM','WJT','BK/GR','DI', 'BKT', 'SIM','RDGR', 'RDT', 'WH BL','BE','RUST','WHBK','RY','UJ','GYGL','NH','WH/BL','RDBK','TL', 'BKRD','SR','BRU','BUS','GYQ','MUL','DECAL','BLBK','RDG','BON','LTBR','LTTN','TNGY','TNBL','GRGY','B L','BLWH','BK BL','TNG','RDGY','HRAU','CHAMP','BLKQ','BJ','WB','GYTN','BKBL','BLKL','WHRD','BRGR','BKG','BGE','-','TNRD','GRW','NOCL','W/B','GLBL','BRTOW','NO','RDBL',', ,U','BRZ','UNKNO','BLW','BLGR','GYBL','BLRD','WN','WHGR','GYGR','RDMR','BLB','WHG','GYBK','WHO','BKGR','TNR','OR BK','BLG','NOC','BKTN','MULTI','GYGY','RDW','WT/BL','BLGY','GYB','GYBR','UNK','BKGY', 'DK/', 'TN', 'PR', 'ALUMI', 'OTHER', 'LT/', 'WHB', 'WHBL', 'WHGY', 'TAN', 'LTT']\n",
    "    df = df[~df['Vehicle Color'].isin(col_rem)]\n",
    "\n",
    "    black = ['BKBK','BLBL','BLLK','B K','BLACJ','BLKI','BL AC','BLC','CHAR','BLACL','BKL','BLIC','B LK','BLK.','VLACK','B LAC''BIACK','BLCK','BLACC','Black','BLAVK','BIK','BK,','BL/','BLA','BLAC','BK/','BKACK','BLAKC','BK', 'BLACK', 'BLK']\n",
    "    white = ['WITE','WHOTE','WHICH','WIT','CREAM','WHLE','WHWH','WHIYE','ITE',\"WH'\",'WHITW','WJOTE','WHTN','WHITR','WHT/S','WHTE','WT.','PEARL','WTE','W','WH.','WHIT', 'WHITE', 'WH', 'WT', 'WH/', 'WHT', 'WHI']\n",
    "    silver = ['SIV','Silve','SIL.','SVR','SI','SLIVE','SIVL','SILO','SLVER','SILGV','SILVQ','SV','SIVLE','SILER','SLR','SL.','SILVE', 'SIL', 'SL', 'SILV', 'SILVR']\n",
    "    green = ['GRGR','Green','DK GN','GR.','LGR','LT/GR','DK GR','GN.','DKGR','G','GRE','GREEB','LTGR','GN','GREEN', 'GR', 'GRN', 'GREN', 'GREE']\n",
    "    grey = ['GEAY','GEY','GARY','DGRAY','GRRAY','GREY.','GHRAY','GRY.','GR/','GRAY.','GRA','HREY','GAEY','GY/','Gray','GY', 'GREY', 'GRAY', 'GRY', 'LTGY', 'LTG', 'DKGY', 'DKG', 'GY.']\n",
    "    red = ['RR','RED.','RD.','RD/','R','DKRD','RD', 'RED', 'DKR']\n",
    "    maroon = ['MROO','MRN','MN','DKMR','DKM','MAROO','MAR', 'MR', 'MARO']\n",
    "    gold = ['GDL','GNY','GLOD','GD.','LTGL','GLTN','GOLD.','GL.','GD','GOLD', 'GL', 'GLD']\n",
    "    blue = ['TEAL','BLUEW','BLIE','NAVY','B LUE','BL UE','BLUE.','BLUED','LBL','BI','NAVY.','DBL','LBUE','LB','LTBL','DKB','B','LTB', 'BL.', 'DKBL', 'BL', 'BLUE', 'BLU']\n",
    "    brown = ['BRBR','BROWY','BROK','BRONK','BRZ', 'BRONZ','COPPE','DKBR','BWN','BRW','BROW','BRO','BROWN', 'BR', 'BRN', 'BRWN', 'BW']\n",
    "    orange = ['O','ORAGE','OG','ORANE','DKOR','ORNGE','ORAG','ORA','OR.','0','ORN','ORAN','ONG','ORANG', 'OR', 'ORG']\n",
    "    yellow = ['YELO','YLL','YEDLL','LTYW','YELW','YLW','YELLW','YL','YEL','YELL','Y','YELLO', 'YW']\n",
    "    purple = ['LAVEN','DKPR','PUPLE','TNGL','TURPL','PURP','PURPL', 'PUR']\n",
    "    pink = ['LTPK','DKPK','LTP','PINK']\n",
    "    burgundy = ['BY','BUR','BURGY','BARG','BURGE','BERG','BU','BGDY','BURGA','BRGY','BN','BURGU', 'BURG']\n",
    "    beige = ['BEGE','BGE.','BIGE','BAGE','BEIG','BEIGE', 'BEIEG', 'BIEGE', 'BG']\n",
    "    \n",
    "    color = ''\n",
    "    \n",
    "    for index, row in df.iterrows():\n",
    "        if row['Vehicle Color'] in black:\n",
    "            color = 'black'\n",
    "        elif row['Vehicle Color'] in white:\n",
    "            color = 'white'\n",
    "        elif row['Vehicle Color'] in silver:\n",
    "            color = 'silver'\n",
    "        elif row['Vehicle Color'] in green:\n",
    "            color = 'green'\n",
    "        elif row['Vehicle Color'] in grey:\n",
    "            color = 'grey'\n",
    "        elif row['Vehicle Color'] in red:\n",
    "            color = 'red'\n",
    "        elif row['Vehicle Color'] in maroon:\n",
    "            color = 'maroon'\n",
    "        elif row['Vehicle Color'] in gold:\n",
    "            color = 'gold'\n",
    "        elif row['Vehicle Color'] in blue:\n",
    "            color = 'blue'\n",
    "        elif row['Vehicle Color'] in brown:\n",
    "            color = 'brown'\n",
    "        elif row['Vehicle Color'] in orange:\n",
    "            color = 'orange'\n",
    "        elif row['Vehicle Color'] in yellow:\n",
    "            color = 'yellow'\n",
    "        elif row['Vehicle Color'] in purple:\n",
    "            color = 'purple'\n",
    "        elif row['Vehicle Color'] in pink:\n",
    "            color = 'pink'\n",
    "        elif row['Vehicle Color'] in burgundy:\n",
    "            color = 'burgundy'\n",
    "        elif row['Vehicle Color'] in beige:\n",
    "            color = 'beige'\n",
    "        df.at[index,'Vehicle Color'] = color\n",
    "\n",
    "    man_cty =['NY', 'MN']\n",
    "    bronx_cty = ['BX']\n",
    "    brooklyn_cty = ['BK','K']\n",
    "    queens_cty = [ 'Q', 'QN', 'QUEEN', 'QNS']\n",
    "    st_isl_cty = ['ST', 'R']\n",
    "    \n",
    "    remove_cty = ['PBX', 'USA']\n",
    "    df = df[~df['Violation County'].isin(remove_cty)]\n",
    "    \n",
    "    for index, row in df.iterrows():\n",
    "        if row['Violation County'] in man_cty:\n",
    "            cty = 'man_cty'\n",
    "        elif row['Violation County'] in bronx_cty:\n",
    "            cty = 'bronx_cty'\n",
    "        elif row['Violation County'] in brooklyn_cty:\n",
    "            cty = 'brooklyn_cty'\n",
    "        elif row['Violation County'] in queens_cty:\n",
    "            cty = 'queens_cty'\n",
    "        elif row['Violation County'] in st_isl_cty:\n",
    "            cty = 'st_isl_cty'\n",
    "        df.at[index,'Violation County'] = cty\n",
    "\n",
    "\n",
    "    \n",
    "#     Adding Month and Year of the violation\n",
    "    months = []\n",
    "    years = []\n",
    "    for k in df[\"Issue Date\"]:\n",
    "        months.append(int(k[3:5]))\n",
    "        years.append(int(k[6:]))\n",
    "    df[\"Month\"] = months\n",
    "    df['Year'] = years\n",
    "\n",
    "    df.drop(columns=['Vehicle Make', 'Issue Date'],inplace=True)\n",
    "    return df\n",
    "\n",
    "def clean_make_year(clean):\n",
    "    # remove white space\n",
    "    clean['Vehicle_Make'] = clean['Vehicle Make'].str.strip()\n",
    "    \n",
    "    # remove any car with less than 10 recordings\n",
    "    clean = clean[clean.groupby('Vehicle_Make').Vehicle_Make.transform(len) > 10]\n",
    "    \n",
    "    # fix R&R\n",
    "    clean['Vehicle_Make'] = clean['Vehicle_Make'].replace('R/R', 'ROLLS')\n",
    "    \n",
    "    # fix L/R\n",
    "    clean['Vehicle_Make'] = clean['Vehicle_Make'].replace('L/R', 'ROVER')\n",
    "    \n",
    "    # remove unrelated\n",
    "    removable = ['FRHT', 'FEDEX', 'WHITE', 'UTILI', 'BL/BI', 'NEW', 'HIGHW', 'TRUCK', 'UPS']\n",
    "    clean = clean[~clean['Vehicle_Make'].isin(removable)]\n",
    "    \n",
    "    clean = clean[(clean['Vehicle Year'] > 1910) & (clean['Vehicle Year'] < 2020)]\n",
    "\n",
    "    return clean\n",
    "\n",
    "def convert_to_datetime(x):\n",
    "    mid = int(len(x) / 2)\n",
    "    hrs = int(x[0:mid])\n",
    "    if (x[len(x) - 1] == 'P' or x[len(x) - 1] == 'A'):\n",
    "        is_pm = x[len(x) - 1] == 'P'\n",
    "    else:\n",
    "        mins = int(x[mid:len(x)])\n",
    "        is_pm = False\n",
    "    if (is_pm):\n",
    "        hrs = hrs + 12\n",
    "    return hrs\n",
    "\n",
    "sample_df = initialClean(sample_df)\n",
    "sample_df['Violation Time'] = sample_df['Violation Time'].dropna().apply(lambda x: convert_to_datetime(x))\n",
    "\n",
    "def get_col_dummies(df):\n",
    "    for column in list(df):\n",
    "        if column != 'Violation Code':\n",
    "            one_hot = pd.get_dummies(df[column])\n",
    "            one_hot.columns = [column+'_' + str(c) for c in one_hot.columns]\n",
    "            df.drop(columns=[column],inplace=True)\n",
    "            df = df.join(one_hot)\n",
    "    return df\n",
    "sample_df = get_col_dummies(sample_df)\n",
    "\n",
    "# Remove colums with less than 30 'true' cases since they will have a low variance\n",
    "for col in sample_df.columns:\n",
    "    if (sample_df[col].value_counts()[1] < 25):\n",
    "        sample_df.drop(columns=[col], inplace=True)\n",
    "\n",
    "print(sample_df.shape)\n",
    "sample_df.head()\n"
   ]
  },
  {
   "cell_type": "code",
   "execution_count": 6,
   "metadata": {},
   "outputs": [
    {
     "data": {
      "text/plain": [
       "(31031, 216)"
      ]
     },
     "execution_count": 6,
     "metadata": {},
     "output_type": "execute_result"
    }
   ],
   "source": [
    "sample_df.shape"
   ]
  },
  {
   "cell_type": "code",
   "execution_count": 7,
   "metadata": {},
   "outputs": [],
   "source": [
    "train_features, test_features, train_outcome, test_outcome = train_test_split(\n",
    "   sample_df.drop(columns=['Violation Code']),      # features\n",
    "   sample_df['Violation Code'],    # outcome\n",
    "   test_size=0.30 # percentage of data to use as the test set\n",
    ")\n"
   ]
  },
  {
   "cell_type": "code",
   "execution_count": 8,
   "metadata": {},
   "outputs": [
    {
     "data": {
      "text/plain": [
       "0.38012889366272823"
      ]
     },
     "execution_count": 8,
     "metadata": {},
     "output_type": "execute_result"
    }
   ],
   "source": [
    "tree_clf = DecisionTreeClassifier()\n",
    "tree_clf.fit(train_features, train_outcome)\n",
    "\n",
    "train_pred = tree_clf.predict(test_features)\n",
    "accuracy = accuracy_score(tree_clf.predict(test_features), test_outcome)\n",
    "accuracy"
   ]
  },
  {
   "cell_type": "code",
   "execution_count": 9,
   "metadata": {},
   "outputs": [],
   "source": [
    "x_train, x_test, y_train, y_test = train_test_split(sample_df.drop(columns=['Violation Code']),\n",
    "   sample_df['Violation Code'], test_size=0.25)\n"
   ]
  },
  {
   "cell_type": "code",
   "execution_count": 10,
   "metadata": {},
   "outputs": [],
   "source": [
    "dt = DecisionTreeClassifier()\n",
    "dt.fit(x_train, y_train)\n",
    "y_pred = dt.predict(x_test)\n"
   ]
  },
  {
   "cell_type": "code",
   "execution_count": 11,
   "metadata": {},
   "outputs": [
    {
     "data": {
      "text/plain": [
       "0.38154163444186645"
      ]
     },
     "execution_count": 11,
     "metadata": {},
     "output_type": "execute_result"
    }
   ],
   "source": [
    "accuracy = accuracy_score(dt.predict(x_test), y_test)\n",
    "accuracy\n"
   ]
  },
  {
   "cell_type": "code",
   "execution_count": 12,
   "metadata": {},
   "outputs": [
    {
     "data": {
      "image/png": "[encoded data removed]",
      "text/plain": [
       "<Figure size 432x288 with 1 Axes>"
      ]
     },
     "metadata": {
      "needs_background": "light"
     },
     "output_type": "display_data"
    }
   ],
   "source": [
    "max_depths = np.linspace(1, 32, 32, endpoint=True)\n",
    "train_results = []\n",
    "test_results = []\n",
    "\n",
    "for max_depth in max_depths:\n",
    "    dt = DecisionTreeClassifier(max_depth=max_depth)\n",
    "    dt.fit(x_train, y_train)\n",
    "    train_pred = dt.predict(x_train)\n",
    "    accuracy = accuracy_score(train_pred, y_train)\n",
    "    # Add auc score to previous train results\n",
    "    train_results.append(accuracy)\n",
    "    y_pred = dt.predict(x_test)\n",
    "    accuracy = accuracy_score(y_pred, y_test)\n",
    "    # Add auc score to previous test results\n",
    "    test_results.append(accuracy)\n",
    "    \n",
    "from matplotlib.legend_handler import HandlerLine2D\n",
    "\n",
    "line1, = plt.plot(max_depths, train_results, 'b', label='Train AC')\n",
    "line2, = plt.plot(max_depths, test_results, 'r', label='Test AC')\n",
    "plt.legend(handler_map={line1: HandlerLine2D(numpoints=2)})\n",
    "plt.ylabel('Accuracy score')\n",
    "plt.xlabel('Tree depth')\n",
    "plt.show()\n"
   ]
  },
  {
   "cell_type": "code",
   "execution_count": 20,
   "metadata": {},
   "outputs": [],
   "source": []
  },
  {
   "cell_type": "code",
   "execution_count": 13,
   "metadata": {},
   "outputs": [
    {
     "data": {
      "image/png": "[encoded data removed]",
      "text/plain": [
       "<Figure size 432x288 with 1 Axes>"
      ]
     },
     "metadata": {
      "needs_background": "light"
     },
     "output_type": "display_data"
    }
   ],
   "source": [
    "min_samples_splits = np.linspace(0.1, 1.0, 10, endpoint=True)\n",
    "train_results = []\n",
    "test_results = []\n",
    "\n",
    "for min_samples_split in min_samples_splits:\n",
    "    dt = DecisionTreeClassifier(min_samples_split=min_samples_split)\n",
    "    dt.fit(x_train, y_train)\n",
    "    train_pred = dt.predict(x_train)\n",
    "    accuracy = accuracy_score(train_pred, y_train)\n",
    "\n",
    "    train_results.append(accuracy)\n",
    "    y_pred = dt.predict(x_test)\n",
    "    accuracy = accuracy_score(y_pred, y_test)\n",
    "\n",
    "    test_results.append(accuracy)\n",
    "    \n",
    "from matplotlib.legend_handler import HandlerLine2D\n",
    "line1, = plt.plot(min_samples_splits, train_results, 'b', label='Train AC')\n",
    "line2, = plt.plot(min_samples_splits, test_results, 'r', label='Test AC')\n",
    "plt.legend(handler_map={line1: HandlerLine2D(numpoints=2)})\n",
    "plt.ylabel('accuracy score')\n",
    "plt.xlabel('min samples split')\n",
    "plt.show()\n"
   ]
  },
  {
   "cell_type": "code",
   "execution_count": 14,
   "metadata": {},
   "outputs": [
    {
     "data": {
      "image/png": "[encoded data removed]",
      "text/plain": [
       "<Figure size 432x288 with 1 Axes>"
      ]
     },
     "metadata": {
      "needs_background": "light"
     },
     "output_type": "display_data"
    }
   ],
   "source": [
    "min_samples_leafs = np.linspace(0.1, 0.5, 5, endpoint=True)\n",
    "train_results = []\n",
    "test_results = []\n",
    "for min_samples_leaf in min_samples_leafs:\n",
    "    dt = DecisionTreeClassifier(min_samples_leaf=min_samples_leaf)\n",
    "    dt.fit(x_train, y_train)\n",
    "    train_pred = dt.predict(x_train)\n",
    "    accuracy = accuracy_score(train_pred, y_train)\n",
    "    train_results.append(accuracy)\n",
    "    y_pred = dt.predict(x_test)\n",
    "    accuracy = accuracy_score(y_pred, y_test)\n",
    "    test_results.append(accuracy)\n",
    "from matplotlib.legend_handler import HandlerLine2D\n",
    "line1, = plt.plot(min_samples_leafs, train_results, 'b', label='Train AC')\n",
    "line2, = plt.plot(min_samples_leafs, test_results, 'r', label='Test AC')\n",
    "plt.legend(handler_map={line1: HandlerLine2D(numpoints=2)})\n",
    "plt.ylabel('Accuracy score')\n",
    "plt.xlabel('min samples leaf')\n",
    "plt.show()\n"
   ]
  },
  {
   "cell_type": "code",
   "execution_count": 15,
   "metadata": {},
   "outputs": [
    {
     "data": {
      "image/png": "[encoded data removed]",
      "text/plain": [
       "<Figure size 432x288 with 1 Axes>"
      ]
     },
     "metadata": {
      "needs_background": "light"
     },
     "output_type": "display_data"
    }
   ],
   "source": [
    "max_features = list(range(1,sample_df.shape[1]))\n",
    "train_results = []\n",
    "test_results = []\n",
    "\n",
    "for max_feature in max_features:\n",
    "    dt = DecisionTreeClassifier(max_features=max_feature)\n",
    "    dt.fit(x_train, y_train)\n",
    "    train_pred = dt.predict(x_train)\n",
    "    accuracy = accuracy_score(train_pred, y_train)\n",
    "    train_results.append(accuracy)\n",
    "    y_pred = dt.predict(x_test)\n",
    "    accuracy = accuracy_score(y_pred, y_test)\n",
    "    test_results.append(accuracy)\n",
    "    \n",
    "from matplotlib.legend_handler import HandlerLine2D\n",
    "line1, = plt.plot(max_features, train_results, 'b', label='Train AC')\n",
    "line2, = plt.plot(max_features, test_results, 'r', label='Test AC')\n",
    "plt.legend(handler_map={line1: HandlerLine2D(numpoints=2)})\n",
    "plt.ylabel('AUC score')\n",
    "plt.xlabel('max features')\n",
    "plt.show()\n"
   ]
  },
  {
   "cell_type": "code",
   "execution_count": null,
   "metadata": {},
   "outputs": [],
   "source": [
    "sample_df.shape"
   ]
  }
 ],
 "metadata": {
  "kernelspec": {
   "display_name": "Python 3",
   "language": "python",
   "name": "python3"
  },
  "language_info": {
   "codemirror_mode": {
    "name": "ipython",
    "version": 3
   },
   "file_extension": ".py",
   "mimetype": "text/x-python",
   "name": "python",
   "nbconvert_exporter": "python",
   "pygments_lexer": "ipython3",
   "version": "3.7.0"
  }
 },
 "nbformat": 4,
 "nbformat_minor": 2
}

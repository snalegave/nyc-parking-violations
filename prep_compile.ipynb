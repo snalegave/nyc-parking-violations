{
 "cells": [
  {
   "cell_type": "code",
   "execution_count": 1,
   "metadata": {},
   "outputs": [],
   "source": [
    "import numpy as np\n",
    "import pandas as pd\n",
    "\n",
    "from sklearn.tree import DecisionTreeClassifier\n",
    "from sklearn.metrics import accuracy_score\n",
    "from sklearn.model_selection import train_test_split # typically done at the start\n"
   ]
  },
  {
   "cell_type": "code",
   "execution_count": 2,
   "metadata": {},
   "outputs": [
    {
     "name": "stderr",
     "output_type": "stream",
     "text": [
      "C:\\Users\\snalegave\\Anaconda3\\lib\\site-packages\\ipykernel_launcher.py:97: SettingWithCopyWarning: \n",
      "A value is trying to be set on a copy of a slice from a DataFrame.\n",
      "Try using .loc[row_indexer,col_indexer] = value instead\n",
      "\n",
      "See the caveats in the documentation: http://pandas.pydata.org/pandas-docs/stable/indexing.html#indexing-view-versus-copy\n",
      "C:\\Users\\snalegave\\Anaconda3\\lib\\site-packages\\ipykernel_launcher.py:100: SettingWithCopyWarning: \n",
      "A value is trying to be set on a copy of a slice from a DataFrame.\n",
      "Try using .loc[row_indexer,col_indexer] = value instead\n",
      "\n",
      "See the caveats in the documentation: http://pandas.pydata.org/pandas-docs/stable/indexing.html#indexing-view-versus-copy\n"
     ]
    }
   ],
   "source": [
    "small_df = pd.read_csv('./Parking_Violations_Issued_-_Fiscal_Year_2018.csv', usecols=  ['Summons Number', 'Registration State', 'Plate Type',\n",
    "       'Issue Date', 'Violation Code', 'Vehicle Body Type', 'Vehicle Make', 'Vehicle Color',\n",
    "       'Issuing Agency', 'Violation Time', 'Violation County','Law Section',\n",
    "       'Sub Division', 'Vehicle Year'], index_col='Summons Number', nrows = 100000)\n",
    "\n",
    "def initialClean(df):\n",
    "    df = df.dropna(how = 'any')\n",
    "    df = df.drop_duplicates()\n",
    "    \n",
    "#     Correct plate type and registration site for vehicle\n",
    "    plate_types = 'AGR MCD AMB MCL ARG MED ATD MOT ATV NLM AYG NYA BOB NYC BOT NYS CBS OMF CCK OML CHC OMO CLG OMR CMB OMS CME OMT CMH OMV COM ORC CSP ORG DLR PAS EDU PHS FAR PPH FPW PSD GAC RGC GFC RGL GSC SCL GSM SNO HAC Ham SOS HAM HIF SPO HIR SRF HIS SRN HOU STA HSM STG IRP SUP ITP TOW JCA TRA JCL THC JSC TRC JWV TRL LMA USC LMB USS LMC VAS LOC VPL LTR WUG LUA'.split(' ')\n",
    "    reg_state = 'AL MT AK NE AZ NV AR NH CA NJ CO NM CT NY DE NC FL ND GA OH HI OK ID OR IL PA IN RI IA SC KS SD KY TN LA TX ME UT MD VT MA VA MI WA MN WV MS WI MO WY AB ON BC PE FO QB MB SK MX GV NB DP NF DC NT YT NS'.split(' ')\n",
    "    df = df[df['Registration State'].isin(reg_state)]\n",
    "    df = df[df['Plate Type'].isin(plate_types)]\n",
    "\n",
    "#     Correct make and year of vehicle\n",
    "    df = clean_make_year(df)\n",
    "    \n",
    "#     Correct color\n",
    "    col_rem = ['PRW','MH','TPE','FT','TAUPE','GRU','XXX','WHBR','AZ','PL','GM','LGITH','BLPR','BK SL','RDBR','LEXUS','RDPR','BRK','MAXIM','BRT','GRBK','GU','BT','BL/SI','ZIWIY','WT BK','BN.','LTBK', 'PRBL','BLTN','VAN','BLT','BRG','GY TN','BLYW','BLBR','GY/BL','DODGE','MAZ','BWTH','IW','NMI','NOCLR','OTH','WYBLU','BKPR','GKN','WAJP','GYG','BRY','KX','VN  R','DKTN','RDTN','TQ','PLE','ORBK','GLGR','YAN','QGY','MITI','BL/WH','QUEEN','GRT','BLK/S','ORWH','BLE','MULT','ZJHT','BWR','BBRW','GRG','TN.','DARL','GYMR','GRGL','CNH', 'SC','GLBK', 'VN  S', 'COM''WT BL','LTPR','BLGL','GRAT','WORKH','GRBL','CRM','MUILT','K.','VLK','GA','RD BK','GYRD','ZKCXN','YE/OR','RDWH','GLK','GT','MC','BLR','KD','GRTN''WHOR','BM','WJT','BK/GR','DI', 'BKT', 'SIM','RDGR', 'RDT', 'WH BL','BE','RUST','WHBK','RY','UJ','GYGL','NH','WH/BL','RDBK','TL', 'BKRD','SR','BRU','BUS','GYQ','MUL','DECAL','BLBK','RDG','BON','LTBR','LTTN','TNGY','TNBL','GRGY','B L','BLWH','BK BL','TNG','RDGY','HRAU','CHAMP','BLKQ','BJ','WB','GYTN','BKBL','BLKL','WHRD','BRGR','BKG','BGE','-','TNRD','GRW','NOCL','W/B','GLBL','BRTOW','NO','RDBL',', ,U','BRZ','UNKNO','BLW','BLGR','GYBL','BLRD','WN','WHGR','GYGR','RDMR','BLB','WHG','GYBK','WHO','BKGR','TNR','OR BK','BLG','NOC','BKTN','MULTI','GYGY','RDW','WT/BL','BLGY','GYB','GYBR','UNK','BKGY', 'DK/', 'TN', 'PR', 'ALUMI', 'OTHER', 'LT/', 'WHB', 'WHBL', 'WHGY', 'TAN', 'LTT']\n",
    "    df = df[~df['Vehicle Color'].isin(col_rem)]\n",
    "\n",
    "    black = ['BKBK','BLBL','BLLK','B K','BLACJ','BLKI','BL AC','BLC','CHAR','BLACL','BKL','BLIC','B LK','BLK.','VLACK','B LAC''BIACK','BLCK','BLACC','Black','BLAVK','BIK','BK,','BL/','BLA','BLAC','BK/','BKACK','BLAKC','BK', 'BLACK', 'BLK']\n",
    "    white = ['WITE','WHOTE','WHICH','WIT','CREAM','WHLE','WHWH','WHIYE','ITE',\"WH'\",'WHITW','WJOTE','WHTN','WHITR','WHT/S','WHTE','WT.','PEARL','WTE','W','WH.','WHIT', 'WHITE', 'WH', 'WT', 'WH/', 'WHT', 'WHI']\n",
    "    silver = ['SIV','Silve','SIL.','SVR','SI','SLIVE','SIVL','SILO','SLVER','SILGV','SILVQ','SV','SIVLE','SILER','SLR','SL.','SILVE', 'SIL', 'SL', 'SILV', 'SILVR']\n",
    "    green = ['GRGR','Green','DK GN','GR.','LGR','LT/GR','DK GR','GN.','DKGR','G','GRE','GREEB','LTGR','GN','GREEN', 'GR', 'GRN', 'GREN', 'GREE']\n",
    "    grey = ['GEAY','GEY','GARY','DGRAY','GRRAY','GREY.','GHRAY','GRY.','GR/','GRAY.','GRA','HREY','GAEY','GY/','Gray','GY', 'GREY', 'GRAY', 'GRY', 'LTGY', 'LTG', 'DKGY', 'DKG', 'GY.']\n",
    "    red = ['RR','RED.','RD.','RD/','R','DKRD','RD', 'RED', 'DKR']\n",
    "    maroon = ['MROO','MRN','MN','DKMR','DKM','MAROO','MAR', 'MR', 'MARO']\n",
    "    gold = ['GDL','GNY','GLOD','GD.','LTGL','GLTN','GOLD.','GL.','GD','GOLD', 'GL', 'GLD']\n",
    "    blue = ['TEAL','BLUEW','BLIE','NAVY','B LUE','BL UE','BLUE.','BLUED','LBL','BI','NAVY.','DBL','LBUE','LB','LTBL','DKB','B','LTB', 'BL.', 'DKBL', 'BL', 'BLUE', 'BLU']\n",
    "    brown = ['BRBR','BROWY','BROK','BRONK','BRZ', 'BRONZ','COPPE','DKBR','BWN','BRW','BROW','BRO','BROWN', 'BR', 'BRN', 'BRWN', 'BW']\n",
    "    orange = ['O','ORAGE','OG','ORANE','DKOR','ORNGE','ORAG','ORA','OR.','0','ORN','ORAN','ONG','ORANG', 'OR', 'ORG']\n",
    "    yellow = ['YELO','YLL','YEDLL','LTYW','YELW','YLW','YELLW','YL','YEL','YELL','Y','YELLO', 'YW']\n",
    "    purple = ['LAVEN','DKPR','PUPLE','TNGL','TURPL','PURP','PURPL', 'PUR']\n",
    "    pink = ['LTPK','DKPK','LTP','PINK']\n",
    "    burgundy = ['BY','BUR','BURGY','BARG','BURGE','BERG','BU','BGDY','BURGA','BRGY','BN','BURGU', 'BURG']\n",
    "    beige = ['BEGE','BGE.','BIGE','BAGE','BEIG','BEIGE', 'BEIEG', 'BIEGE', 'BG']\n",
    "    \n",
    "    color = ''\n",
    "    \n",
    "    for index, row in df.iterrows():\n",
    "        if row['Vehicle Color'] in black:\n",
    "            color = 'black'\n",
    "        elif row['Vehicle Color'] in white:\n",
    "            color = 'white'\n",
    "        elif row['Vehicle Color'] in silver:\n",
    "            color = 'silver'\n",
    "        elif row['Vehicle Color'] in green:\n",
    "            color = 'green'\n",
    "        elif row['Vehicle Color'] in grey:\n",
    "            color = 'grey'\n",
    "        elif row['Vehicle Color'] in red:\n",
    "            color = 'red'\n",
    "        elif row['Vehicle Color'] in maroon:\n",
    "            color = 'maroon'\n",
    "        elif row['Vehicle Color'] in gold:\n",
    "            color = 'gold'\n",
    "        elif row['Vehicle Color'] in blue:\n",
    "            color = 'blue'\n",
    "        elif row['Vehicle Color'] in brown:\n",
    "            color = 'brown'\n",
    "        elif row['Vehicle Color'] in orange:\n",
    "            color = 'orange'\n",
    "        elif row['Vehicle Color'] in yellow:\n",
    "            color = 'yellow'\n",
    "        elif row['Vehicle Color'] in purple:\n",
    "            color = 'purple'\n",
    "        elif row['Vehicle Color'] in pink:\n",
    "            color = 'pink'\n",
    "        elif row['Vehicle Color'] in burgundy:\n",
    "            color = 'burgundy'\n",
    "        elif row['Vehicle Color'] in beige:\n",
    "            color = 'beige'\n",
    "        df.at[index,'Vehicle Color'] = color\n",
    "\n",
    "#     Adding Month and Year of the violation\n",
    "    months = []\n",
    "    years = []\n",
    "    for k in df[\"Issue Date\"]:\n",
    "        months.append(int(k[3:5]))\n",
    "        years.append(int(k[6:]))\n",
    "    df[\"Month\"] = months\n",
    "    df['Year'] = years\n",
    "\n",
    "    df.drop(columns=['Issue Date', 'Vehicle Make', 'Year'],inplace=True)\n",
    "    return df\n",
    "\n",
    "def clean_make_year(clean):\n",
    "    # remove white space\n",
    "    clean['Vehicle_Make'] = clean['Vehicle Make'].str.strip()\n",
    "    \n",
    "    # remove any car with less than 10 recordings\n",
    "    clean = clean[clean.groupby('Vehicle_Make').Vehicle_Make.transform(len) > 10]\n",
    "    \n",
    "    # fix R&R\n",
    "    clean['Vehicle_Make'] = clean['Vehicle_Make'].replace('R/R', 'ROLLS')\n",
    "    \n",
    "    # fix L/R\n",
    "    clean['Vehicle_Make'] = clean['Vehicle_Make'].replace('L/R', 'ROVER')\n",
    "    \n",
    "    # remove unrelated\n",
    "    removable = ['FRHT', 'FEDEX', 'WHITE', 'UTILI', 'BL/BI', 'NEW', 'HIGHW', 'TRUCK', 'UPS']\n",
    "    clean = clean[~clean['Vehicle_Make'].isin(removable)]\n",
    "    \n",
    "    clean = clean[(clean['Vehicle Year'] > 1910) & (clean['Vehicle Year'] < 2020)]\n",
    "\n",
    "    return clean\n",
    "\n",
    "def convert_to_datetime(x):\n",
    "    mid = int(len(x) / 2)\n",
    "    hrs = int(x[0:mid])\n",
    "    if (x[len(x) - 1] == 'P' or x[len(x) - 1] == 'A'):\n",
    "        is_pm = x[len(x) - 1] == 'P'\n",
    "    else:\n",
    "        mins = int(x[mid:len(x)])\n",
    "        is_pm = False\n",
    "    if (is_pm):\n",
    "        hrs = hrs + 12\n",
    "    return hrs\n",
    "\n",
    "small_df = initialClean(small_df)\n",
    "small_df['Violation Time'] = small_df['Violation Time'].dropna().apply(lambda x: convert_to_datetime(x))\n",
    "\n",
    "def get_col_dummies(df):\n",
    "    for column in list(df):\n",
    "        if column != 'Violation Code':\n",
    "            one_hot = pd.get_dummies(df[column])\n",
    "            one_hot.columns = [column+'_' + str(c) for c in one_hot.columns]\n",
    "            df.drop(columns=[column],inplace=True)\n",
    "            df = df.join(one_hot)\n",
    "    return df\n",
    "small_df = get_col_dummies(small_df)\n",
    "small_df.head()\n",
    "\n",
    "# small_df.head(20)\n",
    "# small_df.columns.contains('Violation Code')"
   ]
  },
  {
   "cell_type": "code",
   "execution_count": 9,
   "metadata": {},
   "outputs": [
    {
     "data": {
      "text/plain": [
       "0.9111833550065019"
      ]
     },
     "execution_count": 9,
     "metadata": {},
     "output_type": "execute_result"
    }
   ],
   "source": [
    "tree_clf = DecisionTreeClassifier()\n",
    "tree_clf.fit(train_features, train_outcome)\n",
    "accuracy = accuracy_score(tree_clf.predict(test_features), test_outcome)\n",
    "accuracy"
   ]
  },
  {
   "cell_type": "code",
   "execution_count": 11,
   "metadata": {},
   "outputs": [],
   "source": [
    "from sklearn.pipeline import make_pipeline\n",
    "from sklearn.preprocessing import MinMaxScaler\n",
    "from sklearn.neighbors import KNeighborsClassifier\n",
    "from sklearn.model_selection import KFold\n",
    "from sklearn.model_selection import cross_val_score\n",
    "from sklearn.model_selection import GridSearchCV"
   ]
  },
  {
   "cell_type": "code",
   "execution_count": null,
   "metadata": {
    "scrolled": false
   },
   "outputs": [
    {
     "name": "stderr",
     "output_type": "stream",
     "text": [
      "C:\\Users\\snalegave\\Anaconda3\\lib\\site-packages\\sklearn\\model_selection\\_split.py:605: Warning: The least populated class in y has only 1 members, which is too few. The minimum number of members in any class cannot be less than n_splits=3.\n",
      "  % (min_groups, self.n_splits)), Warning)\n"
     ]
    }
   ],
   "source": [
    "pipe = make_pipeline(MinMaxScaler(), KNeighborsClassifier())\n",
    "\n",
    "param_grid = {'kneighborsclassifier__n_neighbors': range(1,20), 'kneighborsclassifier__weights':[\"uniform\", \"distance\"]}\n",
    "grid = GridSearchCV(pipe, param_grid)\n",
    "grid.fit(train_features, train_outcome)\n",
    "grid.score(test_features, test_outcome)"
   ]
  }
 ],
 "metadata": {
  "kernelspec": {
   "display_name": "Python 3",
   "language": "python",
   "name": "python3"
  },
  "language_info": {
   "codemirror_mode": {
    "name": "ipython",
    "version": 3
   },
   "file_extension": ".py",
   "mimetype": "text/x-python",
   "name": "python",
   "nbconvert_exporter": "python",
   "pygments_lexer": "ipython3",
   "version": "3.7.0"
  }
 },
 "nbformat": 4,
 "nbformat_minor": 2
}

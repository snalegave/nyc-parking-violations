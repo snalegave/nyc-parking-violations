{
 "cells": [
  {
   "cell_type": "code",
   "execution_count": 1,
   "metadata": {},
   "outputs": [],
   "source": [
    "import pandas as pd\n",
    "import numpy as np\n",
    "import matplotlib.pyplot as plt\n",
    "import seaborn as sns\n",
    "sns.set(color_codes=True)\n",
    "%matplotlib inline\n",
    "from sklearn.model_selection import train_test_split\n",
    "import dask.dataframe as dd # Install dask library for code to import"
   ]
  },
  {
   "cell_type": "code",
   "execution_count": 77,
   "metadata": {},
   "outputs": [
    {
     "data": {
      "text/plain": [
       "dask.dataframe.core.DataFrame"
      ]
     },
     "execution_count": 77,
     "metadata": {},
     "output_type": "execute_result"
    }
   ],
   "source": [
    "parkingDD = dd.read_csv('/Users/Omar/Desktop/Info 370/nyc-parking-violations/data/Parking_Violations_Issued_-_Fiscal_Year_2018.csv')"
   ]
  },
  {
   "cell_type": "markdown",
   "metadata": {},
   "source": [
    "## Deleting and dropping unused columns and NA values "
   ]
  },
  {
   "cell_type": "code",
   "execution_count": 79,
   "metadata": {},
   "outputs": [],
   "source": [
    "def initialClean(df):\n",
    "    drop_columns = ['Unregistered Vehicle?','Meter Number', 'Time First Observed','Intersecting Street','Double Parking Violation','No Standing or Stopping Violation', 'Hydrant Violation','Violation Post Code','Violation Legal Code', 'Intersecting Street','To Hours In Effect','From Hours In Effect','Violation Description','House Number', 'Violation In Front Of Or Opposite', 'Violation Location', 'Days Parking In Effect    ']\n",
    "    df = df.drop(drop_columns, axis=1)\n",
    "    df = df.dropna(how = 'any')\n",
    "    df = df.reset_index(drop=True)\n",
    "    return df"
   ]
  },
  {
   "cell_type": "code",
   "execution_count": 80,
   "metadata": {},
   "outputs": [],
   "source": [
    "parkingDD = initialClean(parkingDD)"
   ]
  },
  {
   "cell_type": "markdown",
   "metadata": {},
   "source": [
    "## Finding indices of colors which have a gibberish code and deleting those rows "
   ]
  },
  {
   "cell_type": "code",
   "execution_count": 81,
   "metadata": {},
   "outputs": [],
   "source": [
    "def colorCorrection(df):\n",
    "    remove = ['PRW','MH','TPE','FT','TAUPE','GRU','XXX','WHBR','AZ','PL','GM','LGITH','BLPR','BK SL','RDBR','LEXUS','RDPR','BRK','MAXIM','BRT','GRBK','GU','BT','BL/SI','ZIWIY','WT BK','BN.','LTBK', 'PRBL','BLTN','VAN','BLT','BRG','GY TN','BLYW','BLBR','GY/BL','DODGE','MAZ','BWTH','IW','NMI','NOCLR','OTH','WYBLU','BKPR','GKN','WAJP','GYG','BRY','KX','VN  R','DKTN','RDTN','TQ','PLE','ORBK','GLGR','YAN','QGY','MITI','BL/WH','QUEEN','GRT','BLK/S','ORWH','BLE','MULT','ZJHT','BWR','BBRW','GRG','TN.','DARL','GYMR','GRGL','CNH', 'SC','GLBK', 'VN  S', 'COM''WT BL','LTPR','BLGL','GRAT','WORKH','GRBL','CRM','MUILT','K.','VLK','GA','RD BK','GYRD','ZKCXN','YE/OR','RDWH','GLK','GT','MC','BLR','KD','GRTN''WHOR','BM','WJT','BK/GR','DI', 'BKT', 'SIM','RDGR', 'RDT', 'WH BL','BE','RUST','WHBK','RY','UJ','GYGL','NH','WH/BL','RDBK','TL', 'BKRD','SR','BRU','BUS','GYQ','MUL','DECAL','BLBK','RDG','BON','LTBR','LTTN','TNGY','TNBL','GRGY','B L','BLWH','BK BL','TNG','RDGY','HRAU','CHAMP','BLKQ','BJ','WB','GYTN','BKBL','BLKL','WHRD','BRGR','BKG','BGE','-','TNRD','GRW','NOCL','W/B','GLBL','BRTOW','NO','RDBL',', ,U','BRZ','UNKNO','BLW','BLGR','GYBL','BLRD','WN','WHGR','GYGR','RDMR','BLB','WHG','GYBK','WHO','BKGR','TNR','OR BK','BLG','NOC','BKTN','MULTI','GYGY','RDW','WT/BL','BLGY','GYB','GYBR','UNK','BKGY', 'DK/', 'TN', 'PR', 'ALUMI', 'OTHER', 'LT/', 'WHB', 'WHBL', 'WHGY', 'TAN', 'LTT']\n",
    "    \n",
    "    color = ''\n",
    "    \n",
    "    indices = []\n",
    "    \n",
    "    \n",
    "    for index,row in df.iterrows():\n",
    "        if row['Vehicle Color'] in remove:\n",
    "            indices.append(index)\n",
    "    return indices"
   ]
  },
  {
   "cell_type": "code",
   "execution_count": 82,
   "metadata": {},
   "outputs": [],
   "source": [
    "indices = colorCorrection(parkingDD)"
   ]
  },
  {
   "cell_type": "markdown",
   "metadata": {},
   "source": [
    "## Converting the Dask dataframe back into Pandas"
   ]
  },
  {
   "cell_type": "code",
   "execution_count": 83,
   "metadata": {},
   "outputs": [],
   "source": [
    "def convert(df):\n",
    "    #parkingPD = df.compute()\n",
    "    df.drop(df.index[indices], inplace=True)\n",
    "    df = df.reset_index(drop=True)\n",
    "    return df"
   ]
  },
  {
   "cell_type": "code",
   "execution_count": 84,
   "metadata": {},
   "outputs": [],
   "source": [
    "parkingPD = convert(parkingDD)"
   ]
  },
  {
   "cell_type": "markdown",
   "metadata": {},
   "source": [
    "## Renaming colors across the various typos"
   ]
  },
  {
   "cell_type": "code",
   "execution_count": 85,
   "metadata": {},
   "outputs": [],
   "source": [
    "def colorRenaming(df):\n",
    "    black = ['BKBK','BLBL','BLLK','B K','BLACJ','BLKI','BL AC','BLC','CHAR','BLACL','BKL','BLIC','B LK','BLK.','VLACK','B LAC''BIACK','BLCK','BLACC','Black','BLAVK','BIK','BK,','BL/','BLA','BLAC','BK/','BKACK','BLAKC','BK', 'BLACK', 'BLK']\n",
    "    white = ['WITE','WHOTE','WHICH','WIT','CREAM','WHLE','WHWH','WHIYE','ITE',\"WH'\",'WHITW','WJOTE','WHTN','WHITR','WHT/S','WHTE','WT.','PEARL','WTE','W','WH.','WHIT', 'WHITE', 'WH', 'WT', 'WH/', 'WHT', 'WHI']\n",
    "    silver = ['SIV','Silve','SIL.','SVR','SI','SLIVE','SIVL','SILO','SLVER','SILGV','SILVQ','SV','SIVLE','SILER','SLR','SL.','SILVE', 'SIL', 'SL', 'SILV', 'SILVR']\n",
    "    green = ['GRGR','Green','DK GN','GR.','LGR','LT/GR','DK GR','GN.','DKGR','G','GRE','GREEB','LTGR','GN','GREEN', 'GR', 'GRN', 'GREN', 'GREE']\n",
    "    grey = ['GEAY','GEY','GARY','DGRAY','GRRAY','GREY.','GHRAY','GRY.','GR/','GRAY.','GRA','HREY','GAEY','GY/','Gray','GY', 'GREY', 'GRAY', 'GRY', 'LTGY', 'LTG', 'DKGY', 'DKG', 'GY.']\n",
    "    red = ['RR','RED.','RD.','RD/','R','DKRD','RD', 'RED', 'DKR']\n",
    "    maroon = ['MROO','MRN','MN','DKMR','DKM','MAROO','MAR', 'MR', 'MARO']\n",
    "    gold = ['GDL','GNY','GLOD','GD.','LTGL','GLTN','GOLD.','GL.','GD','GOLD', 'GL', 'GLD']\n",
    "    blue = ['TEAL','BLUEW','BLIE','NAVY','B LUE','BL UE','BLUE.','BLUED','LBL','BI','NAVY.','DBL','LBUE','LB','LTBL','DKB','B','LTB', 'BL.', 'DKBL', 'BL', 'BLUE', 'BLU']\n",
    "    brown = ['BRBR','BROWY','BROK','BRONK','BRZ', 'BRONZ','COPPE','DKBR','BWN','BRW','BROW','BRO','BROWN', 'BR', 'BRN', 'BRWN', 'BW']\n",
    "    orange = ['O','ORAGE','OG','ORANE','DKOR','ORNGE','ORAG','ORA','OR.','0','ORN','ORAN','ONG','ORANG', 'OR', 'ORG']\n",
    "    yellow = ['YELO','YLL','YEDLL','LTYW','YELW','YLW','YELLW','YL','YEL','YELL','Y','YELLO', 'YW']\n",
    "    purple = ['LAVEN','DKPR','PUPLE','TNGL','TURPL','PURP','PURPL', 'PUR']\n",
    "    pink = ['LTPK','DKPK','LTP','PINK']\n",
    "    burgundy = ['BY','BUR','BURGY','BARG','BURGE','BERG','BU','BGDY','BURGA','BRGY','BN','BURGU', 'BURG']\n",
    "    beige = ['BEGE','BGE.','BIGE','BAGE','BEIG','BEIGE', 'BEIEG', 'BIEGE', 'BG']\n",
    "    \n",
    "    color = ''\n",
    "    \n",
    "    for index, row in df.iterrows():\n",
    "        if row['Vehicle Color'] in black:\n",
    "            color = 'black'\n",
    "        elif row['Vehicle Color'] in white:\n",
    "            color = 'white'\n",
    "        elif row['Vehicle Color'] in silver:\n",
    "            color = 'silver'\n",
    "        elif row['Vehicle Color'] in green:\n",
    "            color = 'green'\n",
    "        elif row['Vehicle Color'] in grey:\n",
    "            color = 'grey'\n",
    "        elif row['Vehicle Color'] in red:\n",
    "            color = 'red'\n",
    "        elif row['Vehicle Color'] in maroon:\n",
    "            color = 'maroon'\n",
    "        elif row['Vehicle Color'] in gold:\n",
    "            color = 'gold'\n",
    "        elif row['Vehicle Color'] in blue:\n",
    "            color = 'blue'\n",
    "        elif row['Vehicle Color'] in brown:\n",
    "            color = 'brown'\n",
    "        elif row['Vehicle Color'] in orange:\n",
    "            color = 'orange'\n",
    "        elif row['Vehicle Color'] in yellow:\n",
    "            color = 'yellow'\n",
    "        elif row['Vehicle Color'] in purple:\n",
    "            color = 'purple'\n",
    "        elif row['Vehicle Color'] in pink:\n",
    "            color = 'pink'\n",
    "        elif row['Vehicle Color'] in burgundy:\n",
    "            color = 'burgundy'\n",
    "        elif row['Vehicle Color'] in beige:\n",
    "            color = 'beige'\n",
    "        df.at[index,'Vehicle Color'] = color\n",
    "    return df"
   ]
  },
  {
   "cell_type": "code",
   "execution_count": 86,
   "metadata": {},
   "outputs": [],
   "source": [
    "parkingPD = colorRenaming(parkingPD)"
   ]
  },
  {
   "cell_type": "markdown",
   "metadata": {},
   "source": [
    "## Removing Vehicle Body Types which do not follow city codes"
   ]
  },
  {
   "cell_type": "code",
   "execution_count": 87,
   "metadata": {},
   "outputs": [],
   "source": [
    "def vehicleBodyTypes(df):\n",
    "        bodyTypes = ['FIRE', 'CONV', 'SEDN', 'SUBN', '4DSD', '2DSD', 'H/WH', 'ATV', 'MCY', 'H/IN', 'LOCO', 'CUST', 'RPLC', 'AMBU', 'P/SH', 'RBM', 'R/RD', 'RD/S', 'S/SP', 'SN/P', 'TRAV', 'MOBL', 'TR/E', 'T/CR', 'TR/C', 'SWT', 'W/DR', 'W/SR', 'FPM', 'MCC', 'EMVR', 'TRAC', 'DELV', 'DUMP', 'FLAT', 'PICK', 'STAK', 'TANK', 'REFG', 'TOW', 'VAN', 'UTIL', 'POLE', 'BOAT', 'H/TR', 'SEMI', 'TRLR', 'LTRL', 'LSVT', 'BUS', 'LIM', 'HRSE', 'TAXI', 'DCOM', 'CMIX', 'MOPD', 'MFH', 'SNOW', 'LSV']\n",
    "        indices = []\n",
    "        for index, row in df.iterrows():\n",
    "            if row['Vehicle Body Type'] not in bodyTypes:\n",
    "                color = 'black'\n",
    "                indices.append(index)\n",
    "        return indices"
   ]
  },
  {
   "cell_type": "code",
   "execution_count": 89,
   "metadata": {},
   "outputs": [],
   "source": [
    "indices = vehicleBodyTypes(parkingPD)\n",
    "parkingPD.drop(parkingPD.index[indices], inplace=True)"
   ]
  },
  {
   "cell_type": "markdown",
   "metadata": {},
   "source": [
    "## Creating testing/training .csv"
   ]
  },
  {
   "cell_type": "code",
   "execution_count": 90,
   "metadata": {},
   "outputs": [],
   "source": [
    "def writeCSV(df):\n",
    "    df.to_csv(\"cleanedData.csv\")\n",
    "    nyc_train_features, nyc_test_features, nyc_train_outcome, nyc_test_outcome = train_test_split(df.drop(\"Violation Code\", axis=1), df['Violation Code'], test_size=0.30)\n",
    "    nyc_train_features.to_csv(\"nyc_train_features.csv\")\n",
    "    nyc_test_features.to_csv(\"nyc_test_features.csv\")\n",
    "    nyc_train_outcome.to_csv(\"nyc_train_outcome.csv\")\n",
    "    nyc_test_outcome.to_csv(\"nyc_train_features.csv\")"
   ]
  },
  {
   "cell_type": "code",
   "execution_count": 91,
   "metadata": {},
   "outputs": [],
   "source": [
    "writeCSV(parkingPD)"
   ]
  },
  {
   "cell_type": "code",
   "execution_count": null,
   "metadata": {},
   "outputs": [],
   "source": []
  }
 ],
 "metadata": {
  "kernelspec": {
   "display_name": "Python 3",
   "language": "python",
   "name": "python3"
  },
  "language_info": {
   "codemirror_mode": {
    "name": "ipython",
    "version": 3
   },
   "file_extension": ".py",
   "mimetype": "text/x-python",
   "name": "python",
   "nbconvert_exporter": "python",
   "pygments_lexer": "ipython3",
   "version": "3.5.5"
  }
 },
 "nbformat": 4,
 "nbformat_minor": 2
}

{
 "cells": [
  {
   "cell_type": "code",
   "execution_count": 1,
   "metadata": {},
   "outputs": [],
   "source": [
    "import pandas as pd\n",
    "import numpy as np"
   ]
  },
  {
   "cell_type": "code",
   "execution_count": 101,
   "metadata": {},
   "outputs": [],
   "source": [
    "clean = pd.read_csv('cleanedData.csv')"
   ]
  },
  {
   "cell_type": "code",
   "execution_count": 139,
   "metadata": {},
   "outputs": [],
   "source": [
    "def clean_make(clean):\n",
    "    # remove white space\n",
    "    clean['Vehicle_Make'] = clean['Vehicle Make'].str.strip()\n",
    "    \n",
    "    # remove any car with less than 10 recordings\n",
    "    clean = clean[clean.groupby('Vehicle_Make').Vehicle_Make.transform(len) > 10]\n",
    "    \n",
    "    # fix R&R\n",
    "    clean['Vehicle_Make'] = clean['Vehicle_Make'].replace('R/R', 'ROLLS')\n",
    "    \n",
    "    # fix L/R\n",
    "    clean['Vehicle_Make'] = clean['Vehicle_Make'].replace('L/R', 'ROVER')\n",
    "    \n",
    "    # remove unrelated\n",
    "    removable = ['FRHT', 'FEDEX', 'WHITE', 'UTILI', 'BL/BI', 'NEW', 'HIGHW', 'TRUCK', 'UPS']\n",
    "    clean = clean[~clean['Vehicle_Make'].isin(removable)]\n",
    "    return clean"
   ]
  },
  {
   "cell_type": "code",
   "execution_count": 140,
   "metadata": {},
   "outputs": [],
   "source": [
    "clean = clean_make(clean)"
   ]
  },
  {
   "cell_type": "code",
   "execution_count": 148,
   "metadata": {
    "scrolled": false
   },
   "outputs": [],
   "source": [
    "def clean_year(clean):\n",
    "    clean = clean[(clean['Vehicle Year'] > 1910) & (clean['Vehicle Year'] < 2020)]\n",
    "    return clean"
   ]
  }
 ],
 "metadata": {
  "kernelspec": {
   "display_name": "Python 3",
   "language": "python",
   "name": "python3"
  },
  "language_info": {
   "codemirror_mode": {
    "name": "ipython",
    "version": 3
   },
   "file_extension": ".py",
   "mimetype": "text/x-python",
   "name": "python",
   "nbconvert_exporter": "python",
   "pygments_lexer": "ipython3",
   "version": "3.7.1"
  }
 },
 "nbformat": 4,
 "nbformat_minor": 2
}

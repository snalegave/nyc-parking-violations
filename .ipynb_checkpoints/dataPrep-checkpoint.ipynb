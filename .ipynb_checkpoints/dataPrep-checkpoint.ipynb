{
 "cells": [
  {
   "cell_type": "code",
   "execution_count": 1,
   "metadata": {},
   "outputs": [],
   "source": [
    "import pandas as pd\n",
    "import numpy as np\n",
    "import matplotlib.pyplot as plt\n",
    "import seaborn as sns\n",
    "sns.set(color_codes=True)\n",
    "%matplotlib inline\n",
    "from sklearn.model_selection import train_test_split\n",
    "import dask.dataframe as dd # Install dask library for code to import"
   ]
  },
  {
   "cell_type": "code",
   "execution_count": 2,
   "metadata": {},
   "outputs": [],
   "source": [
    "parkingDD = dd.read_csv('/Users/Omar/Desktop/Info 370/nyc-parking-violations/data/Parking_Violations_Issued_-_Fiscal_Year_2018.csv')"
   ]
  },
  {
   "cell_type": "markdown",
   "metadata": {},
   "source": [
    "## Deleting and dropping unused columns and NA values "
   ]
  },
  {
   "cell_type": "code",
   "execution_count": 3,
   "metadata": {},
   "outputs": [],
   "source": [
    "def initialClean(df):\n",
    "    drop_columns = [\n",
    " 'Plate ID',\n",
    " 'Street Code1',\n",
    " 'Street Code2',\n",
    " 'Street Code3',\n",
    " 'Vehicle Expiration Date',\n",
    " 'Violation Location',\n",
    " 'Violation Precinct',\n",
    " 'Issuer Precinct',\n",
    " 'Issuer Code',\n",
    " 'Issuer Command',\n",
    " 'Issuer Squad',\n",
    " 'Time First Observed',\n",
    " 'Violation In Front Of Or Opposite',\n",
    " 'House Number',\n",
    " 'Intersecting Street',\n",
    " 'Date First Observed',\n",
    " 'Violation Legal Code',\n",
    " 'Days Parking In Effect    ',\n",
    " 'From Hours In Effect',\n",
    " 'To Hours In Effect',\n",
    " 'Unregistered Vehicle?',\n",
    " 'Meter Number',\n",
    " 'Violation Post Code',\n",
    " 'Violation Description',\n",
    " 'No Standing or Stopping Violation',\n",
    " 'Hydrant Violation',\n",
    " 'Double Parking Violation']\n",
    "    df = df.drop(drop_columns, axis=1)\n",
    "    df = df.dropna(how = 'any')\n",
    "    df = df.reset_index(drop=True)\n",
    "    return df"
   ]
  },
  {
   "cell_type": "code",
   "execution_count": 4,
   "metadata": {},
   "outputs": [],
   "source": [
    "parkingDD = initialClean(parkingDD)"
   ]
  },
  {
   "cell_type": "markdown",
   "metadata": {},
   "source": [
    "## Finding indices of colors which have a gibberish code and deleting those rows "
   ]
  },
  {
   "cell_type": "code",
   "execution_count": null,
   "metadata": {},
   "outputs": [],
   "source": [
    "def colorCorrection(df):\n",
    "    remove = ['PRW','MH','TPE','FT','TAUPE','GRU','XXX','WHBR','AZ','PL','GM','LGITH','BLPR','BK SL','RDBR','LEXUS','RDPR','BRK','MAXIM','BRT','GRBK','GU','BT','BL/SI','ZIWIY','WT BK','BN.','LTBK', 'PRBL','BLTN','VAN','BLT','BRG','GY TN','BLYW','BLBR','GY/BL','DODGE','MAZ','BWTH','IW','NMI','NOCLR','OTH','WYBLU','BKPR','GKN','WAJP','GYG','BRY','KX','VN  R','DKTN','RDTN','TQ','PLE','ORBK','GLGR','YAN','QGY','MITI','BL/WH','QUEEN','GRT','BLK/S','ORWH','BLE','MULT','ZJHT','BWR','BBRW','GRG','TN.','DARL','GYMR','GRGL','CNH', 'SC','GLBK', 'VN  S', 'COM''WT BL','LTPR','BLGL','GRAT','WORKH','GRBL','CRM','MUILT','K.','VLK','GA','RD BK','GYRD','ZKCXN','YE/OR','RDWH','GLK','GT','MC','BLR','KD','GRTN''WHOR','BM','WJT','BK/GR','DI', 'BKT', 'SIM','RDGR', 'RDT', 'WH BL','BE','RUST','WHBK','RY','UJ','GYGL','NH','WH/BL','RDBK','TL', 'BKRD','SR','BRU','BUS','GYQ','MUL','DECAL','BLBK','RDG','BON','LTBR','LTTN','TNGY','TNBL','GRGY','B L','BLWH','BK BL','TNG','RDGY','HRAU','CHAMP','BLKQ','BJ','WB','GYTN','BKBL','BLKL','WHRD','BRGR','BKG','BGE','-','TNRD','GRW','NOCL','W/B','GLBL','BRTOW','NO','RDBL',', ,U','BRZ','UNKNO','BLW','BLGR','GYBL','BLRD','WN','WHGR','GYGR','RDMR','BLB','WHG','GYBK','WHO','BKGR','TNR','OR BK','BLG','NOC','BKTN','MULTI','GYGY','RDW','WT/BL','BLGY','GYB','GYBR','UNK','BKGY', 'DK/', 'TN', 'PR', 'ALUMI', 'OTHER', 'LT/', 'WHB', 'WHBL', 'WHGY', 'TAN', 'LTT']\n",
    "    \n",
    "    color = ''\n",
    "    \n",
    "    indices = []\n",
    "    \n",
    "    \n",
    "    for index,row in df.iterrows():\n",
    "        if row['Vehicle Color'] in remove:\n",
    "            indices.append(index)\n",
    "    return indices"
   ]
  },
  {
   "cell_type": "code",
   "execution_count": null,
   "metadata": {},
   "outputs": [],
   "source": [
    "indices = colorCorrection(parkingDD)"
   ]
  },
  {
   "cell_type": "markdown",
   "metadata": {},
   "source": [
    "## Converting the Dask dataframe back into Pandas"
   ]
  },
  {
   "cell_type": "code",
   "execution_count": null,
   "metadata": {},
   "outputs": [],
   "source": [
    "def convert(df):\n",
    "    df = df.compute()\n",
    "    df.drop(df.index[indices], inplace=True)\n",
    "    df = df.reset_index(drop=True)\n",
    "    return df"
   ]
  },
  {
   "cell_type": "code",
   "execution_count": null,
   "metadata": {},
   "outputs": [],
   "source": [
    "parkingPD = convert(parkingDD)"
   ]
  },
  {
   "cell_type": "markdown",
   "metadata": {},
   "source": [
    "## Renaming colors across the various typos"
   ]
  },
  {
   "cell_type": "code",
   "execution_count": null,
   "metadata": {},
   "outputs": [],
   "source": [
    "def colorRenaming(df):\n",
    "    black = ['BKBK','BLBL','BLLK','B K','BLACJ','BLKI','BL AC','BLC','CHAR','BLACL','BKL','BLIC','B LK','BLK.','VLACK','B LAC''BIACK','BLCK','BLACC','Black','BLAVK','BIK','BK,','BL/','BLA','BLAC','BK/','BKACK','BLAKC','BK', 'BLACK', 'BLK']\n",
    "    white = ['WITE','WHOTE','WHICH','WIT','CREAM','WHLE','WHWH','WHIYE','ITE',\"WH'\",'WHITW','WJOTE','WHTN','WHITR','WHT/S','WHTE','WT.','PEARL','WTE','W','WH.','WHIT', 'WHITE', 'WH', 'WT', 'WH/', 'WHT', 'WHI']\n",
    "    silver = ['SIV','Silve','SIL.','SVR','SI','SLIVE','SIVL','SILO','SLVER','SILGV','SILVQ','SV','SIVLE','SILER','SLR','SL.','SILVE', 'SIL', 'SL', 'SILV', 'SILVR']\n",
    "    green = ['GRGR','Green','DK GN','GR.','LGR','LT/GR','DK GR','GN.','DKGR','G','GRE','GREEB','LTGR','GN','GREEN', 'GR', 'GRN', 'GREN', 'GREE']\n",
    "    grey = ['GEAY','GEY','GARY','DGRAY','GRRAY','GREY.','GHRAY','GRY.','GR/','GRAY.','GRA','HREY','GAEY','GY/','Gray','GY', 'GREY', 'GRAY', 'GRY', 'LTGY', 'LTG', 'DKGY', 'DKG', 'GY.']\n",
    "    red = ['RR','RED.','RD.','RD/','R','DKRD','RD', 'RED', 'DKR']\n",
    "    maroon = ['MROO','MRN','MN','DKMR','DKM','MAROO','MAR', 'MR', 'MARO']\n",
    "    gold = ['GDL','GNY','GLOD','GD.','LTGL','GLTN','GOLD.','GL.','GD','GOLD', 'GL', 'GLD']\n",
    "    blue = ['TEAL','BLUEW','BLIE','NAVY','B LUE','BL UE','BLUE.','BLUED','LBL','BI','NAVY.','DBL','LBUE','LB','LTBL','DKB','B','LTB', 'BL.', 'DKBL', 'BL', 'BLUE', 'BLU']\n",
    "    brown = ['BRBR','BROWY','BROK','BRONK','BRZ', 'BRONZ','COPPE','DKBR','BWN','BRW','BROW','BRO','BROWN', 'BR', 'BRN', 'BRWN', 'BW']\n",
    "    orange = ['O','ORAGE','OG','ORANE','DKOR','ORNGE','ORAG','ORA','OR.','0','ORN','ORAN','ONG','ORANG', 'OR', 'ORG']\n",
    "    yellow = ['YELO','YLL','YEDLL','LTYW','YELW','YLW','YELLW','YL','YEL','YELL','Y','YELLO', 'YW']\n",
    "    purple = ['LAVEN','DKPR','PUPLE','TNGL','TURPL','PURP','PURPL', 'PUR']\n",
    "    pink = ['LTPK','DKPK','LTP','PINK']\n",
    "    burgundy = ['BY','BUR','BURGY','BARG','BURGE','BERG','BU','BGDY','BURGA','BRGY','BN','BURGU', 'BURG']\n",
    "    beige = ['BEGE','BGE.','BIGE','BAGE','BEIG','BEIGE', 'BEIEG', 'BIEGE', 'BG']\n",
    "    \n",
    "    color = ''\n",
    "    \n",
    "    for index, row in df.iterrows():\n",
    "        if row['Vehicle Color'] in black:\n",
    "            color = 'black'\n",
    "        elif row['Vehicle Color'] in white:\n",
    "            color = 'white'\n",
    "        elif row['Vehicle Color'] in silver:\n",
    "            color = 'silver'\n",
    "        elif row['Vehicle Color'] in green:\n",
    "            color = 'green'\n",
    "        elif row['Vehicle Color'] in grey:\n",
    "            color = 'grey'\n",
    "        elif row['Vehicle Color'] in red:\n",
    "            color = 'red'\n",
    "        elif row['Vehicle Color'] in maroon:\n",
    "            color = 'maroon'\n",
    "        elif row['Vehicle Color'] in gold:\n",
    "            color = 'gold'\n",
    "        elif row['Vehicle Color'] in blue:\n",
    "            color = 'blue'\n",
    "        elif row['Vehicle Color'] in brown:\n",
    "            color = 'brown'\n",
    "        elif row['Vehicle Color'] in orange:\n",
    "            color = 'orange'\n",
    "        elif row['Vehicle Color'] in yellow:\n",
    "            color = 'yellow'\n",
    "        elif row['Vehicle Color'] in purple:\n",
    "            color = 'purple'\n",
    "        elif row['Vehicle Color'] in pink:\n",
    "            color = 'pink'\n",
    "        elif row['Vehicle Color'] in burgundy:\n",
    "            color = 'burgundy'\n",
    "        elif row['Vehicle Color'] in beige:\n",
    "            color = 'beige'\n",
    "        df.at[index,'Vehicle Color'] = color\n",
    "    return df"
   ]
  },
  {
   "cell_type": "code",
   "execution_count": null,
   "metadata": {},
   "outputs": [],
   "source": [
    "parkingPD = colorRenaming(parkingPD)"
   ]
  },
  {
   "cell_type": "markdown",
   "metadata": {},
   "source": [
    "## Removing Vehicle Body Types which do not follow city codes"
   ]
  },
  {
   "cell_type": "code",
   "execution_count": null,
   "metadata": {},
   "outputs": [],
   "source": [
    "def vehicleBodyTypes(df):\n",
    "        bodyTypes = ['FIRE', 'CONV', 'SEDN', 'SUBN', '4DSD', '2DSD', 'H/WH', 'ATV', 'MCY', 'H/IN', 'LOCO', 'CUST', 'RPLC', 'AMBU', 'P/SH', 'RBM', 'R/RD', 'RD/S', 'S/SP', 'SN/P', 'TRAV', 'MOBL', 'TR/E', 'T/CR', 'TR/C', 'SWT', 'W/DR', 'W/SR', 'FPM', 'MCC', 'EMVR', 'TRAC', 'DELV', 'DUMP', 'FLAT', 'PICK', 'STAK', 'TANK', 'REFG', 'TOW', 'VAN', 'UTIL', 'POLE', 'BOAT', 'H/TR', 'SEMI', 'TRLR', 'LTRL', 'LSVT', 'BUS', 'LIM', 'HRSE', 'TAXI', 'DCOM', 'CMIX', 'MOPD', 'MFH', 'SNOW', 'LSV']\n",
    "        indices = []\n",
    "        for index, row in df.iterrows():\n",
    "            if row['Vehicle Body Type'] not in bodyTypes:\n",
    "                indices.append(index)\n",
    "        return indices"
   ]
  },
  {
   "cell_type": "code",
   "execution_count": null,
   "metadata": {},
   "outputs": [],
   "source": [
    "indices = vehicleBodyTypes(parkingPD)\n",
    "parkingPD.drop(parkingPD.index[indices], inplace=True)\n",
    "parkingPD = parkingPD.reset_index(drop=True)"
   ]
  },
  {
   "cell_type": "markdown",
   "metadata": {},
   "source": [
    "## Removing Sub Divisions which don't follow city codes"
   ]
  },
  {
   "cell_type": "code",
   "execution_count": null,
   "metadata": {},
   "outputs": [],
   "source": [
    "def subDivisions(df):\n",
    "    subDivisions = ['A0','A1','A2','A3','A4','A5','A6','A7','A8','A9','B1','B2','B3','B9','C0','C1','C2','C3','C4','C5','C6','C7','C8','C9','CM','D0','D1','D2','D3','D4','D5','D6','D7','D8','D9','E1','E2','E3','E4','E7','E9','F1','F2','F4','F5','F8','F9','G0','G1','G2','G3','G4','G5','G6','G7','G8','G9','GU','HB','HH','HR','HS','H1','H2','H3','H4','H5','H6','H7','H8','H9','I1','I2','I3','I4','I5','I6','I7','I8','I9','J1','J2','J3','J4','J5','J6','J7','J8','J9','K1','K2','K3','K4','K5','K6','K7','K8','K9','L1','L2','L3','L8','L9','M1','M2','M3','M4','M9','N1','N2','N3','N4','N9','O1','O2','O3','O4','O5','O6','O7','O8','O9','P1','P2','P3','P4','P5','P6','P7','P8','P9','Q1','Q2','Q3','Q4','Q5','Q6','Q7','Q8','Q9','RA','RB','RG','RH','RK','RP','RR','RS','RT','RW','R0','R1','R2','R3','R4','R5','R6','R7','R8','R9','S0','S1','S2','S3','S4','S5','S9','T1','T2','T9','U0','U1','U2','U3','U4','U5','U6','U7','U8','U9','V0','V1','V2','V3','V4','V5','V6','V7','V8','V9','W1','W2','W3','W4','W5','W6','W7','W8','W9','Y1','Y2','Y3','Y4','Y5','Y6','Y7','Y8','Y9','Z0','Z1','Z2','Z3','Z4','Z5','Z6','Z7','Z8','Z9']\n",
    "    indices = []\n",
    "    for index, row in df.iterrows():\n",
    "        if row['Sub Divisions'] not in subDivisions:\n",
    "            indices.append(index)\n",
    "    return indices"
   ]
  },
  {
   "cell_type": "code",
   "execution_count": null,
   "metadata": {},
   "outputs": [],
   "source": [
    "indices = subDivisons(parkingPD)\n",
    "parkingPD.drop(parkingPD.index[indices], inplace=True)\n",
    "parkingPD = parkingPD.reset_index(drop=True)"
   ]
  },
  {
   "cell_type": "markdown",
   "metadata": {},
   "source": [
    "## Creating testing/training .csv"
   ]
  },
  {
   "cell_type": "code",
   "execution_count": null,
   "metadata": {},
   "outputs": [],
   "source": [
    "def writeCSV(df):\n",
    "    df.to_csv(\"cleanedData.csv\")\n",
    "    nyc_train_features, nyc_test_features, nyc_train_outcome, nyc_test_outcome = train_test_split(df, df['Violation Code'], test_size=0.30)\n",
    "    nyc_train_features.to_csv(\"nyc_train_features.csv\")\n",
    "    nyc_test_features.to_csv(\"nyc_test_features.csv\")\n",
    "    nyc_train_outcome.to_csv(\"nyc_train_outcome.csv\")\n",
    "    nyc_test_outcome.to_csv(\"nyc_train_features.csv\")"
   ]
  },
  {
   "cell_type": "code",
   "execution_count": null,
   "metadata": {},
   "outputs": [],
   "source": [
    "writeCSV(parkingPD)"
   ]
  }
 ],
 "metadata": {
  "kernelspec": {
   "display_name": "Python 3",
   "language": "python",
   "name": "python3"
  },
  "language_info": {
   "codemirror_mode": {
    "name": "ipython",
    "version": 3
   },
   "file_extension": ".py",
   "mimetype": "text/x-python",
   "name": "python",
   "nbconvert_exporter": "python",
   "pygments_lexer": "ipython3",
   "version": "3.5.5"
  }
 },
 "nbformat": 4,
 "nbformat_minor": 2
}

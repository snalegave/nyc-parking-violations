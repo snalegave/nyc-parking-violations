{
 "cells": [
  {
   "cell_type": "markdown",
   "metadata": {},
   "source": [
    "# NYC Parking Violations"
   ]
  },
  {
   "cell_type": "markdown",
   "metadata": {},
   "source": [
    "## Problem Overview\n",
    "According to the INRIX traffic congestion study, [New York City is one of the most congested cities in the world](http://inrix.com/scorecard/). Being that the city is the [10th most populated city in the world](https://www.worldatlas.com/citypops.htm), New York is one of the busiest cities in the world, and if you are a commuter in the big apple, you might find it extremely challenging to find parking in the city. It is such a challenge that parking applications has been in demand enough for multiple solutions to come out such as [SpotAngels](https://itunes.apple.com/us/app/spotangels-live-parking-maps/id897809583?mt=8&ign-mpt=uo%3D8), [ParkMobile](https://itunes.apple.com/us/app/parkmobile-find-parking/id365399299?mt=8&ign-mpt=uo%3D8), [SpotHero](https://itunes.apple.com/us/app/spothero-find-parking-nearby/id499097243?mt=8&ign-mpt=uo%3D8), and many more."
   ]
  },
  {
   "cell_type": "markdown",
   "metadata": {},
   "source": [
    "This project's problem revolves around the parking enforcement in New York City, mainly, the project explores how do factors such as color of the car, the make of the car, year of the car, location of parking, and more factors affect the probability of recieving a parking violation. The project relies on general domain knowledge and algorithmic selection of features to explore, while obviously it is impossible to come up with a perfect model, the project attempts to explore the relationships at play between different features and parking violations. "
   ]
  },
  {
   "cell_type": "markdown",
   "metadata": {},
   "source": [
    "## Implications\n",
    "It is important to ask of any research question, why is it important? Looking at this problem on a surface-level, it is interesting to see how the color, make or year of a car affects the probability of recieving a parking violation. For those who regularly park in NYC, this might be helpful, and might be a bit sinister, to help evade parking laws. Diving into it a bit deeper, these results might lead to important discussions that challenge the current state. For example, if it discovered that a 1990 Impala is at a lot higher risk to recieve a violation than a 2018 Mercedes-Benz, what does that say about socioeconomic status and law enforcement? Are those at a lower socioeconomic status targeted by law enforcement? Apart from socioeconomics, if specific areas are at a higher risk than others, and these areas have a heavy concentration of minorities, some interesting conclusions can be drawn about race and law enforcement. The kind of car (year, make, color) says a lot about the owner, the features of a neighborhood (demographics) says a lot about its residents, and how these factors affect the probability of recieving a parking violation says a lot about society, and possible bias in law enforcement. This project has the potential of exploring possible police bias, which given the current and recent heavy activism mobilization over this subject, this is an issue that is deemed critical by society.\n",
    "\n",
    "Straying away from political outcomes, the results of this dataset can be used as a helpful tool for NYC parking enforcement as well. Results might reveal trends that the enforcement office themselves may not be aware of, which allows officers to reflect over their work and perhaps focus on areas they were neglecting previously. In the perspective of the enforcement office, areas with high or low probabilities, for example, are interesting to explore for officers since it begs a question of causation. There could be a possible low or heavy police presence in areas, where the parking enforcement office can now work on improving and creating a more level-playing field. The results can be a powerful metric for officers to measure the quality of their work."
   ]
  },
  {
   "cell_type": "markdown",
   "metadata": {},
   "source": [
    "## The Dataset\n",
    "The dataset stems from [Kaggle](https://www.kaggle.com/new-york-city/ny-parking-violations-issued), where the data was originally collected from New York City's [Open Data project](https://opendata.cityofnewyork.us). The dataset includes all of the parking violations in NYC recorded by the city, in the 2018 fiscal year. The dataset is, as one would imagine, huge, with almost 6 million rows initially, including the following initial features:\n",
    "- Registration State\n",
    "- Plate Type\n",
    "- Issue Date\n",
    "- Violation Code\n",
    "- Vehicle Body Type\n",
    "- Vehicle Make\n",
    "- Issuing Agency\n",
    "- Street Code1\n",
    "- Street Code2\n",
    "- Street Code3\n",
    "- Vehicle Expiration Date\n",
    "- Violation Location\n",
    "- Violation Precinct\n",
    "- Issuer Precinct\n",
    "- Issuer Code\n",
    "- Issuer Command\n",
    "- Issuer Squad\n",
    "- Violation Time\n",
    "- Time First Observed\n",
    "- Violation County\n",
    "- Violation In Front Of Or Opposite\n",
    "- House Number\n",
    "- Street Name\n",
    "- Intersecting Street\n",
    "- Date First Observed\n",
    "- Law Section\n",
    "- Sub Division\n",
    "- Violation Legal Code\n",
    "- Days Parking In Effect\n",
    "- From Hours In Effect\n",
    "- To Hours In Effect\n",
    "- Vehicle Color\n",
    "- Unregistered Vehicle?\n",
    "- Vehicle Year\n",
    "- Meter Number\n",
    "- Feet From Curb\n",
    "- Violation Post Code\n",
    "- Violation Description\n",
    "- No Standing or Stopping Violation\n",
    "- Hydrant Violation\n",
    "- Double Parking Violation"
   ]
  },
  {
   "cell_type": "markdown",
   "metadata": {},
   "source": [
    "Given that this is records collected from parking enforcement, it is not surprising the number of columns in this dataset, given that it is an extension of local government. The vast size of this dataset vertically and horizontally is great for modelling, it provides more than enough to explore important relationships, and potentially join with other tables of interest that can be used for modelling. \n",
    "\n",
    "Another positive aspect of the dataset is its credibility, being that this is raw data from the New York City's parking enforcement, there were no bias that can appear in the data collection process. This data comes directly from the source, and there are no questions over the ethics of the data and the process of collecting it, due to the validity of the dataset. One can be assured that no one's privacy was breached in achieving this dataset, and no bias can tamper with these values, as opposed to data conducted by research or a study where many biases can show up.\n",
    "\n",
    "However, this dataset provides lots of challenges for anyone who attempts to tackle this issue, and many of the positives derived, can be spun into negatives. The size of the dataset not only makes computing time a lot slower, it also makes it a lot harder to clean up the data. Some normalization is needed to scale data for interpretation, such as accounting for population in each of the areas represented in the dataset, or only including the hour of when the violation occured, instead of the hours and minutes. There are multiple columns, such as 'Feet From Curb,' and 'Violation Post Code' which are mostly null or zero values that are rendered useless. While the data collection process is one of the brightest spots of this dataset, it provides lots of issues with consistency, as one can expect, there hundreads of New York City parking enforcement officers. There does not seem to be a standardized method of filling out violations records provided to the officers, as one look at the data can quickly indicate that there are multiple authors. One of the biggest issues in consistency can be seen in the 'Vehicle Color' column, where, for example, the color black is represented in values such as 'Black,' 'Blac,' 'Bla,' 'BL,' 'Bl,' and many more. Human error is a common theme in this dataset, not only in the vehicle color column, but in columns such as 'Issue Date,' referencing the date that specific parking violation was issued. Years such as 1990, 2020, and 2030 show up multiple times in this dataset, not only are these dates are not included in the 2018 fiscal year, it is obviously also impossible. This is a quite shocking discovery, given that this is dataset comes directly from a local government office, it is expected that it is accurate, especially when it comes to critical features such as the date of violation. This only emphasizes the importance of double checking every dataset, and taking extreme caution in the prepartion part of the analysis. Just because it is a local government office, does not mean it is impervious to mistakes.\n",
    "\n",
    "Furthermore, similar to quality of the dataset, the bias of the dataset is an important point to bring up. As mentioned above, credibility is a huge positive of this dataset, society thinks of government data as hard and actual facts. However, this does not rid the dataset of possible bias, given that this data is collected by parking enforcement officers, they are humans with their own biases that can be carried into the dataset. Many officers may be allowing personal prejuidice affect how they carry their work, which is something that is touched on in the upcoming sections of this report. However, it is important to mention that this project does not try to predict the probability a vehicle has violated parking laws, instead, the project attempts to predict the probability of recieving a parking violation. This absolves the project results from the possible bias, since the project attempts to account for it in the models provided. If there is bias targeting minorities where they end up recieving more violations, for example, the model would be able to find areas of NYC with a high minority concentration and put them at a higher risk to recieve a violation.\n",
    "\n",
    "Finally, possibly the biggest challenge of this dataset is that it is an all-true table, where only values that recieved a parking violation are included. This does not allow for statistical modelling or machine learning to be done since the machine is only being fed true values. There is no dataset that includes every single car that parked at any point in the 2018 fiscal year, so for anyone to tackle this issue, they are tasked with estimating a general population pool, which is how this project tackled this issue. When exploring how vehicle-specific features affect the probability of recieivng a parking violation, a dataset of all cars registered to the state of New York can be obtained and joined with this dataset, essentially creating a dataset of true and false values in terms of parking violations (some cars recieved, some did not). If one is pursuing area-specific features, borrough-level features for example, census data can be collected and used to normalize the data and create a general pool. Obviously, these are only estimates of the general pool, and not a complete picture of what is at hand. Not every car registered to the state of New York parks in NYC, nor does everyone that is represented in the census own a car or has parked in NYC during the fiscal year of 2018. However, these estimates are as close as the project can get to the general pool given the resources and time, given the nature of this problem, there is currently no way to truly achieve a complete general pool of data."
   ]
  },
  {
   "cell_type": "markdown",
   "metadata": {},
   "source": [
    "## Exploratory Data Analysis"
   ]
  },
  {
   "cell_type": "code",
   "execution_count": null,
   "metadata": {},
   "outputs": [],
   "source": []
  }
 ],
 "metadata": {
  "kernelspec": {
   "display_name": "Python 3",
   "language": "python",
   "name": "python3"
  },
  "language_info": {
   "codemirror_mode": {
    "name": "ipython",
    "version": 3
   },
   "file_extension": ".py",
   "mimetype": "text/x-python",
   "name": "python",
   "nbconvert_exporter": "python",
   "pygments_lexer": "ipython3",
   "version": "3.7.1"
  }
 },
 "nbformat": 4,
 "nbformat_minor": 2
}
